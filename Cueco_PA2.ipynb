{
 "cells": [
  {
   "cell_type": "code",
   "execution_count": 13,
   "id": "1bc0ca50-591a-4194-89e2-a051ba668994",
   "metadata": {},
   "outputs": [],
   "source": [
    "import numpy as np"
   ]
  },
  {
   "cell_type": "markdown",
   "id": "2ced3515-c271-4b6b-b542-378c8cbc7477",
   "metadata": {},
   "source": [
    "# Normalization Problem\n",
    "\n",
    "## Overview\n",
    "\n",
    "Normalization is a basic preprocessing technique used in data analytics. It involves two main steps:\n",
    "1. **Centering**: Subtracting the mean from the data.\n",
    "2. **Scaling**: Dividing by the standard deviation.\n",
    "\n",
    "The goal of normalization is to transform the data so that it has a mean of 0 and a standard deviation of 1. This process helps in making different datasets comparable and prepares the data for machine learning models.\n",
    "\n",
    "## Mathematical Formula\n",
    "\n",
    "Normalization can be expressed mathematically as:\n",
    "\n",
    "\n",
    "Z = X - x̄/σ\n",
    "\n",
    "\n",
    "Where:\n",
    "- \\( X ) is the original data.\n",
    "- \\( x̄ ) is the mean of the data.\n",
    "- \\( σ ) is the standard deviation of the data.\n",
    "- \\( Z \\) is the normalized data.\n",
    "\n",
    "## Steps\n",
    "\n",
    "1. Create a 5x5 NumPy array filled with random numbers.\n",
    "2. Calculate the mean and standard deviation of the array.\n",
    "3. Normalize the array using the formula above.\n",
    "4. Save the normalized array to a file called `X_normalized.npy`.\n",
    "\n",
    "## Code Implementation"
   ]
  },
  {
   "cell_type": "code",
   "execution_count": 15,
   "id": "e142f00b-7824-46f6-9ae9-3cec4d8fe670",
   "metadata": {},
   "outputs": [],
   "source": [
    "# Generate a 5x5 array of random numbers\n",
    "X = np.random.random((5,5))\n",
    "\n",
    "# Define a function to normalize the input array\n",
    "def normalization(z):\n",
    "    # Calculate the mean of the array\n",
    "    mean = z.mean()\n",
    "    # Calculate the standard deviation of the array\n",
    "    std_dev = z.std()\n",
    "    # Normalize the input array using the formula (z - mean) / std_dev\n",
    "    Z = (z - mean) / std_dev\n",
    "    # Return the normalized array\n",
    "    return Z\n",
    "    \n",
    "# Normalize the random array X\n",
    "X_normalized = normalization(X)\n",
    "# Save the normalized array to a .npy file\n",
    "np.save('X_normalized.npy', X_normalized)"
   ]
  },
  {
   "cell_type": "markdown",
   "id": "083f82dc-b55c-46f3-9c09-2cd02e82ed6e",
   "metadata": {},
   "source": [
    "## Expected Output\n",
    "\n",
    "The output will be a NumPy array where the original values are normalized such that the array has a mean of 0 and a standard deviation of 1. The normalized array will be saved to a file named X_normalized.npy.\n",
    "\n",
    "Since the input array consists of random numbers, the specific values in the output will vary with each run."
   ]
  },
  {
   "cell_type": "markdown",
   "id": "0e87c20a-5f4e-4398-84ab-cbb2ddc545b8",
   "metadata": {},
   "source": [
    "# Divisible by 3 Problem\n",
    "\n",
    "## Overview\n",
    "\n",
    "In this problem, we will create a 10x10 NumPy array that consists of the squares of the first 100 positive integers. The goal is to identify all the elements in this array that are divisible by 3 and save them to a file named `div_by_3.npy`.\n",
    "\n",
    "## Steps\n",
    "\n",
    "1. Create a 1D NumPy array containing the squares of integers from 1 to 100.\n",
    "2. Reshape this array into a 10x10 matrix.\n",
    "3. Filter the elements in the matrix that are divisible by 3.\n",
    "4. Save the filtered elements to a file called `div_by_3.npy`.\n",
    "\n",
    "## Code Implementation"
   ]
  },
  {
   "cell_type": "code",
   "execution_count": 21,
   "id": "b80a8619-7aba-4f00-8840-d6a43f893dc1",
   "metadata": {},
   "outputs": [],
   "source": [
    "# Create an array of squares from 1 to 100 in a 10x10 matrix\n",
    "x = (np.arange(1,101) ** 2).reshape(10,10)\n",
    "\n",
    "# Initialize an empty list to store squares divisible by 3\n",
    "squares_div_by_3 = x[x % 3 == 0]\n",
    "\n",
    "# Save the NumPy array to a file named 'div_by_3.npy'\n",
    "np.save('div_by_3.npy', squares_div_by_3)"
   ]
  },
  {
   "cell_type": "markdown",
   "id": "bdf6a017-7d5b-4af5-a835-3ff6ecf4e06c",
   "metadata": {},
   "source": [
    "## Expected Output\n",
    "The output will be a NumPy array containing the squares of numbers from the original 10x10 matrix that are divisible by 3. The filtered array will be saved to a file named div_by_3.npy."
   ]
  }
 ],
 "metadata": {
  "kernelspec": {
   "display_name": "Python 3 (ipykernel)",
   "language": "python",
   "name": "python3"
  },
  "language_info": {
   "codemirror_mode": {
    "name": "ipython",
    "version": 3
   },
   "file_extension": ".py",
   "mimetype": "text/x-python",
   "name": "python",
   "nbconvert_exporter": "python",
   "pygments_lexer": "ipython3",
   "version": "3.12.4"
  }
 },
 "nbformat": 4,
 "nbformat_minor": 5
}
