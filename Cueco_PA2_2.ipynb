{
 "cells": [
  {
   "cell_type": "markdown",
   "id": "8c992499-412c-48a4-b8f3-deda7d56ce15",
   "metadata": {},
   "source": [
    "### Divisible by 3 Problem"
   ]
  },
  {
   "cell_type": "code",
   "execution_count": 1,
   "id": "41a66ef0-9ba1-4aa2-9cb4-d8740fca24c7",
   "metadata": {},
   "outputs": [],
   "source": [
    "import numpy as np"
   ]
  },
  {
   "cell_type": "code",
   "execution_count": 15,
   "id": "18959732-efff-4043-ba78-740a2d8ddedc",
   "metadata": {},
   "outputs": [],
   "source": [
    "# Create an array of squares from 1 to 100 in a 10x10 matrix\n",
    "x = (np.arange(1,101) ** 2).reshape(10,10)\n",
    "\n",
    "# Initialize an empty list to store squares divisible by 3\n",
    "squares_div_by_3 = x[x % 3 == 0]\n",
    "\n",
    "# Save the NumPy array to a file named 'div_by_3.npy'\n",
    "np.save('div_by_3.npy', squares_div_by_3)"
   ]
  }
 ],
 "metadata": {
  "kernelspec": {
   "display_name": "Python 3 (ipykernel)",
   "language": "python",
   "name": "python3"
  },
  "language_info": {
   "codemirror_mode": {
    "name": "ipython",
    "version": 3
   },
   "file_extension": ".py",
   "mimetype": "text/x-python",
   "name": "python",
   "nbconvert_exporter": "python",
   "pygments_lexer": "ipython3",
   "version": "3.12.4"
  }
 },
 "nbformat": 4,
 "nbformat_minor": 5
}
