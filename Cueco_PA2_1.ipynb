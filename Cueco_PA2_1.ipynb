{
 "cells": [
  {
   "cell_type": "markdown",
   "id": "df875bf9-b308-42a3-a466-5ab07e99d6ad",
   "metadata": {},
   "source": [
    "### Normalization Problem"
   ]
  },
  {
   "cell_type": "code",
   "execution_count": 1,
   "id": "1bc0ca50-591a-4194-89e2-a051ba668994",
   "metadata": {},
   "outputs": [],
   "source": [
    "import numpy as np"
   ]
  },
  {
   "cell_type": "code",
   "execution_count": 7,
   "id": "e142f00b-7824-46f6-9ae9-3cec4d8fe670",
   "metadata": {},
   "outputs": [],
   "source": [
    "# Generate a 5x5 array of random numbers\n",
    "X = np.random.random((5,5))\n",
    "\n",
    "# Define a function to normalize the input array\n",
    "def normalization(z):\n",
    "    # Calculate the mean of the array\n",
    "    m = z.mean()\n",
    "    # Calculate the standard deviation of the array\n",
    "    s = z.std()\n",
    "    # Normalize the input array using the formula (z - mean) / std_dev\n",
    "    Z = (z - m) / s\n",
    "    # Return the normalized array\n",
    "    return Z\n",
    "    \n",
    "# Normalize the random array X\n",
    "X_normalized = normalization(X)\n",
    "# Save the normalized array to a .npy file\n",
    "np.save('X_normalized.npy', X_normalized)"
   ]
  }
 ],
 "metadata": {
  "kernelspec": {
   "display_name": "Python 3 (ipykernel)",
   "language": "python",
   "name": "python3"
  },
  "language_info": {
   "codemirror_mode": {
    "name": "ipython",
    "version": 3
   },
   "file_extension": ".py",
   "mimetype": "text/x-python",
   "name": "python",
   "nbconvert_exporter": "python",
   "pygments_lexer": "ipython3",
   "version": "3.12.4"
  }
 },
 "nbformat": 4,
 "nbformat_minor": 5
}
